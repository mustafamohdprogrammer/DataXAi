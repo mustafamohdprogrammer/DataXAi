{
 "cells": [
  {
   "cell_type": "code",
   "execution_count": 7,
   "id": "dc52c111-f80e-4157-81c5-7a5910e25dcb",
   "metadata": {},
   "outputs": [
    {
     "data": {
      "text/plain": [
       "1"
      ]
     },
     "execution_count": 7,
     "metadata": {},
     "output_type": "execute_result"
    }
   ],
   "source": [
    "spam = 1 # and this is the second comment \n",
    "spam"
   ]
  },
  {
   "cell_type": "code",
   "execution_count": 9,
   "id": "b321a056-c2cd-4444-b8ab-3d409c798236",
   "metadata": {},
   "outputs": [
    {
     "data": {
      "text/plain": [
       "'# this is not comments because this statement is in quotes'"
      ]
     },
     "execution_count": 9,
     "metadata": {},
     "output_type": "execute_result"
    }
   ],
   "source": [
    "text = '# this is not comments because this statement is in quotes'\n",
    "text\n"
   ]
  },
  {
   "cell_type": "markdown",
   "id": "8f308345-5f45-4762-9e9d-0f36833b810e",
   "metadata": {},
   "source": [
    "# calculator"
   ]
  },
  {
   "cell_type": "code",
   "execution_count": 16,
   "id": "170f951c-82c3-4160-afa7-0a5e391a4705",
   "metadata": {},
   "outputs": [
    {
     "data": {
      "text/plain": [
       "5"
      ]
     },
     "execution_count": 16,
     "metadata": {},
     "output_type": "execute_result"
    }
   ],
   "source": [
    "2 + 3"
   ]
  },
  {
   "cell_type": "code",
   "execution_count": 23,
   "id": "c4d78186-c57d-464c-886a-ef4f8d1a09a7",
   "metadata": {},
   "outputs": [
    {
     "data": {
      "text/plain": [
       "30"
      ]
     },
     "execution_count": 23,
     "metadata": {},
     "output_type": "execute_result"
    }
   ],
   "source": [
    "90 // 3"
   ]
  },
  {
   "cell_type": "code",
   "execution_count": null,
   "id": "d9fc94cc-2011-4d6a-9a0c-d114e0e0b87d",
   "metadata": {},
   "outputs": [],
   "source": []
  },
  {
   "cell_type": "code",
   "execution_count": 1,
   "id": "e8f27fe6-efe0-4f52-b791-2f56d73177f3",
   "metadata": {},
   "outputs": [
    {
     "data": {
      "text/plain": [
       "2"
      ]
     },
     "execution_count": 1,
     "metadata": {},
     "output_type": "execute_result"
    }
   ],
   "source": [
    "True +True"
   ]
  },
  {
   "cell_type": "code",
   "execution_count": 1,
   "id": "a7f633fb-29fe-4076-85d8-039f936df4a6",
   "metadata": {},
   "outputs": [
    {
     "data": {
      "text/plain": [
       "5.666666666666667"
      ]
     },
     "execution_count": 1,
     "metadata": {},
     "output_type": "execute_result"
    }
   ],
   "source": [
    "17 / 3"
   ]
  },
  {
   "cell_type": "code",
   "execution_count": 3,
   "id": "8dc21eb7-52a4-4ee6-b451-3bc390433a81",
   "metadata": {},
   "outputs": [
    {
     "data": {
      "text/plain": [
       "1"
      ]
     },
     "execution_count": 3,
     "metadata": {},
     "output_type": "execute_result"
    }
   ],
   "source": [
    "17 % 4"
   ]
  },
  {
   "cell_type": "code",
   "execution_count": 22,
   "id": "60ad4da7-8c88-4104-885d-54a42229a86d",
   "metadata": {},
   "outputs": [
    {
     "data": {
      "text/plain": [
       "1200"
      ]
     },
     "execution_count": 22,
     "metadata": {},
     "output_type": "execute_result"
    }
   ],
   "source": [
    "height = 40\n",
    "width = 30\n",
    "height * width"
   ]
  },
  {
   "cell_type": "markdown",
   "id": "b4731ae6-26d9-4bfd-bd90-b3f4f12fc63a",
   "metadata": {},
   "source": [
    "# to print a quote in a string we use / back slash"
   ]
  },
  {
   "cell_type": "code",
   "execution_count": 20,
   "id": "52f6ed5c-56e9-42dc-bd1a-2af9827d45e6",
   "metadata": {},
   "outputs": [
    {
     "data": {
      "text/plain": [
       "\"doesn't\""
      ]
     },
     "execution_count": 20,
     "metadata": {},
     "output_type": "execute_result"
    }
   ],
   "source": [
    "'doesn\\'t'"
   ]
  },
  {
   "cell_type": "markdown",
   "id": "ebd56cfb-8797-42de-9226-0a81816376a4",
   "metadata": {},
   "source": [
    "# string concatination"
   ]
  },
  {
   "cell_type": "code",
   "execution_count": 29,
   "id": "e5410a2e-2880-4fe3-af60-a9e91875b2d7",
   "metadata": {},
   "outputs": [
    {
     "data": {
      "text/plain": [
       "'unununumm'"
      ]
     },
     "execution_count": 29,
     "metadata": {},
     "output_type": "execute_result"
    }
   ],
   "source": [
    "3 * 'un' + 'umm'"
   ]
  },
  {
   "cell_type": "code",
   "execution_count": null,
   "id": "fb3b527b-9f9a-4663-aaa7-385d75bc1028",
   "metadata": {},
   "outputs": [],
   "source": [
    "# indexing"
   ]
  },
  {
   "cell_type": "code",
   "execution_count": 31,
   "id": "8259950a-6c37-40e1-80ab-15fd95c0a00d",
   "metadata": {},
   "outputs": [
    {
     "data": {
      "text/plain": [
       "'o'"
      ]
     },
     "execution_count": 31,
     "metadata": {},
     "output_type": "execute_result"
    }
   ],
   "source": [
    "word = 'python'\n",
    "word[4]"
   ]
  },
  {
   "cell_type": "code",
   "execution_count": 49,
   "id": "d414af46-7e90-4a5a-a707-731ceb3814ca",
   "metadata": {},
   "outputs": [
    {
     "data": {
      "text/plain": [
       "'n'"
      ]
     },
     "execution_count": 49,
     "metadata": {},
     "output_type": "execute_result"
    }
   ],
   "source": [
    "word[-1] # it will start thw indexing backwards from right to left"
   ]
  },
  {
   "cell_type": "code",
   "execution_count": 51,
   "id": "b8ae57e9-0ce5-487f-9dc4-4f533223b18e",
   "metadata": {},
   "outputs": [
    {
     "data": {
      "text/plain": [
       "'o'"
      ]
     },
     "execution_count": 51,
     "metadata": {},
     "output_type": "execute_result"
    }
   ],
   "source": [
    "word[-2]"
   ]
  },
  {
   "cell_type": "code",
   "execution_count": 55,
   "id": "dbe063f1-092f-4207-b259-ed57f97659d9",
   "metadata": {},
   "outputs": [
    {
     "data": {
      "text/plain": [
       "'py'"
      ]
     },
     "execution_count": 55,
     "metadata": {},
     "output_type": "execute_result"
    }
   ],
   "source": [
    "word[0:2]  # it will print the values from 0th index to last index -1"
   ]
  },
  {
   "cell_type": "markdown",
   "id": "15d699c3-0f9d-4b86-af37-f26077ec46d1",
   "metadata": {},
   "source": [
    " # Lists"
   ]
  },
  {
   "cell_type": "code",
   "execution_count": 58,
   "id": "da1c5631-97ba-4a07-b576-a2c659fc8efc",
   "metadata": {},
   "outputs": [
    {
     "data": {
      "text/plain": [
       "[1, 2, 3, 4, 5, 6, 7, 8]"
      ]
     },
     "execution_count": 58,
     "metadata": {},
     "output_type": "execute_result"
    }
   ],
   "source": [
    "squares = [1,2 ,3,4 ,5,6,7,8]\n",
    "squares"
   ]
  },
  {
   "cell_type": "code",
   "execution_count": 60,
   "id": "830de121-e42b-4268-8320-4f57a7295272",
   "metadata": {},
   "outputs": [
    {
     "data": {
      "text/plain": [
       "[9, 10, 11, 12, 13, 14, 15]"
      ]
     },
     "execution_count": 60,
     "metadata": {},
     "output_type": "execute_result"
    }
   ],
   "source": [
    "root = [9,10,11,12,13,14,15]\n",
    "root"
   ]
  },
  {
   "cell_type": "code",
   "execution_count": 64,
   "id": "58db58ea-e710-4ea2-af6b-1fabd3cd79b4",
   "metadata": {},
   "outputs": [
    {
     "data": {
      "text/plain": [
       "[1, 2, 3, 4, 5, 6, 7, 8, 9, 10, 11, 12, 13, 14, 15]"
      ]
     },
     "execution_count": 64,
     "metadata": {},
     "output_type": "execute_result"
    }
   ],
   "source": [
    "squares + root # lists are mutable"
   ]
  },
  {
   "cell_type": "code",
   "execution_count": 68,
   "id": "d672a9d1-1bd4-4470-a77f-5749e2fdd604",
   "metadata": {},
   "outputs": [
    {
     "data": {
      "text/plain": [
       "[9, 10, 11, 12, 13, 14, 15, 16, 16]"
      ]
     },
     "execution_count": 68,
     "metadata": {},
     "output_type": "execute_result"
    }
   ],
   "source": [
    "root.append(16) # append function\n",
    "root"
   ]
  },
  {
   "cell_type": "code",
   "execution_count": 70,
   "id": "e0bbc5a4-a3ae-471a-b317-1818b7f8518d",
   "metadata": {},
   "outputs": [
    {
     "data": {
      "text/plain": [
       "9"
      ]
     },
     "execution_count": 70,
     "metadata": {},
     "output_type": "execute_result"
    }
   ],
   "source": [
    "len(root)"
   ]
  },
  {
   "cell_type": "markdown",
   "id": "f9f46a44-6929-40f0-9716-4673e6b2dd12",
   "metadata": {},
   "source": [
    "# fibonacci series"
   ]
  },
  {
   "cell_type": "code",
   "execution_count": 84,
   "id": "c7ddcfe7-7748-4395-8f6a-9838deb85ea0",
   "metadata": {},
   "outputs": [
    {
     "name": "stdout",
     "output_type": "stream",
     "text": [
      "0\n",
      "1\n",
      "1\n",
      "2\n",
      "3\n",
      "5\n",
      "8\n"
     ]
    }
   ],
   "source": [
    "a = 0\n",
    "b = 1\n",
    "while a < 10:\n",
    "    print(a)\n",
    "    a , b = b , a+b"
   ]
  },
  {
   "cell_type": "code",
   "execution_count": null,
   "id": "6abcb348-50f9-45d2-8f42-cb57dea7d401",
   "metadata": {},
   "outputs": [],
   "source": []
  },
  {
   "cell_type": "code",
   "execution_count": null,
   "id": "f32f922a-a05c-4a7f-9bd3-7f1511451672",
   "metadata": {},
   "outputs": [],
   "source": []
  },
  {
   "cell_type": "code",
   "execution_count": null,
   "id": "d149ef10-7c70-49c5-b085-0392f8092300",
   "metadata": {},
   "outputs": [],
   "source": []
  },
  {
   "cell_type": "code",
   "execution_count": null,
   "id": "d11454b9-c7b9-4dbd-bc05-7793ce219feb",
   "metadata": {},
   "outputs": [],
   "source": []
  },
  {
   "cell_type": "code",
   "execution_count": null,
   "id": "8f58e69f-dfbf-461d-aba9-170e54a122cc",
   "metadata": {},
   "outputs": [],
   "source": []
  },
  {
   "cell_type": "code",
   "execution_count": null,
   "id": "5bf822fa-cf2e-48bf-a76d-1f9d2960ed8d",
   "metadata": {},
   "outputs": [],
   "source": []
  },
  {
   "cell_type": "code",
   "execution_count": null,
   "id": "ca6f372c-218f-4430-933a-4e19c6b5e24f",
   "metadata": {},
   "outputs": [],
   "source": []
  },
  {
   "cell_type": "code",
   "execution_count": null,
   "id": "c541b8bc-97ff-4ed3-b559-531261fd0568",
   "metadata": {},
   "outputs": [],
   "source": []
  },
  {
   "cell_type": "code",
   "execution_count": null,
   "id": "3f1d505a-284c-457a-b96a-de17da978b4a",
   "metadata": {},
   "outputs": [],
   "source": []
  }
 ],
 "metadata": {
  "kernelspec": {
   "display_name": "Python 3 (ipykernel)",
   "language": "python",
   "name": "python3"
  },
  "language_info": {
   "codemirror_mode": {
    "name": "ipython",
    "version": 3
   },
   "file_extension": ".py",
   "mimetype": "text/x-python",
   "name": "python",
   "nbconvert_exporter": "python",
   "pygments_lexer": "ipython3",
   "version": "3.12.7"
  }
 },
 "nbformat": 4,
 "nbformat_minor": 5
}
