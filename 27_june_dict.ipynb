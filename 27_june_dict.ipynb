{
 "cells": [
  {
   "cell_type": "markdown",
   "id": "3fcf2d80",
   "metadata": {},
   "source": [
    "# Dictionary"
   ]
  },
  {
   "cell_type": "code",
   "execution_count": 1,
   "id": "8725ebd4",
   "metadata": {},
   "outputs": [
    {
     "data": {
      "text/plain": [
       "{}"
      ]
     },
     "execution_count": 1,
     "metadata": {},
     "output_type": "execute_result"
    }
   ],
   "source": [
    "my_dict = dict()\n",
    "my_dict"
   ]
  },
  {
   "cell_type": "code",
   "execution_count": 3,
   "id": "7ef8e799",
   "metadata": {},
   "outputs": [
    {
     "data": {
      "text/plain": [
       "{}"
      ]
     },
     "execution_count": 3,
     "metadata": {},
     "output_type": "execute_result"
    }
   ],
   "source": [
    "my_dict2 = {}\n",
    "my_dict2"
   ]
  },
  {
   "cell_type": "code",
   "execution_count": 4,
   "id": "aaaa7a57",
   "metadata": {},
   "outputs": [
    {
     "data": {
      "text/plain": [
       "{1: 'hey', 2: 'hello', 3: 'hi'}"
      ]
     },
     "execution_count": 4,
     "metadata": {},
     "output_type": "execute_result"
    }
   ],
   "source": [
    "my_dict3 = {1 : \"hey\" , 2 : \"hello\" , 3 : \"hi\" }\n",
    "my_dict3"
   ]
  },
  {
   "cell_type": "code",
   "execution_count": 5,
   "metadata": {},
   "outputs": [
    {
     "data": {
      "text/plain": [
       "{'A': 'hey', 'B': 'hello', 'C': 'hi'}"
      ]
     },
     "execution_count": 5,
     "metadata": {},
     "output_type": "execute_result"
    }
   ],
   "source": [
    "my_dict4 = {'A' : \"hey\" , \"B\" : \"hello\" , \"C\" : \"hi\" }\n",
    "my_dict4"
   ]
  },
  {
   "cell_type": "code",
   "execution_count": 6,
   "id": "2792cb33",
   "metadata": {},
   "outputs": [
    {
     "data": {
      "text/plain": [
       "dict_keys([1, 2, 3])"
      ]
     },
     "execution_count": 6,
     "metadata": {},
     "output_type": "execute_result"
    }
   ],
   "source": [
    "my_dict3.keys()"
   ]
  },
  {
   "cell_type": "code",
   "execution_count": 7,
   "id": "373de5c6",
   "metadata": {},
   "outputs": [
    {
     "data": {
      "text/plain": [
       "dict_values(['hey', 'hello', 'hi'])"
      ]
     },
     "execution_count": 7,
     "metadata": {},
     "output_type": "execute_result"
    }
   ],
   "source": [
    "my_dict3.values()"
   ]
  },
  {
   "cell_type": "code",
   "execution_count": 8,
   "id": "87352714",
   "metadata": {},
   "outputs": [
    {
     "data": {
      "text/plain": [
       "dict_items([(1, 'hey'), (2, 'hello'), (3, 'hi')])"
      ]
     },
     "execution_count": 8,
     "metadata": {},
     "output_type": "execute_result"
    }
   ],
   "source": [
    "my_dict3.items()"
   ]
  },
  {
   "cell_type": "code",
   "execution_count": null,
   "id": "86fca5dd",
   "metadata": {},
   "outputs": [
    {
     "data": {
      "text/plain": [
       "{1: 'one',\n",
       " 2: 'two',\n",
       " 'A': ['asif', 'john', 'Maria'],\n",
       " 'B': ('Bat', 'cat', 'hat')}"
      ]
     },
     "execution_count": 11,
     "metadata": {},
     "output_type": "execute_result"
    }
   ],
   "source": [
    "my_dict4 = {1: 'one',2: 'two','A': ['asif', 'john', 'Maria'],\n",
    "            'B': ('Bat', 'cat', 'hat')}\n",
    "my_dict4"
   ]
  },
  {
   "cell_type": "markdown",
   "id": "85ecc535",
   "metadata": {},
   "source": [
    "# Accessing Items"
   ]
  },
  {
   "cell_type": "code",
   "execution_count": 12,
   "id": "a6392d15",
   "metadata": {},
   "outputs": [
    {
     "data": {
      "text/plain": [
       "'hey'"
      ]
     },
     "execution_count": 12,
     "metadata": {},
     "output_type": "execute_result"
    }
   ],
   "source": [
    "my_dict3[1]"
   ]
  },
  {
   "cell_type": "code",
   "execution_count": 15,
   "id": "f31f84c8",
   "metadata": {},
   "outputs": [
    {
     "data": {
      "text/plain": [
       "'one'"
      ]
     },
     "execution_count": 15,
     "metadata": {},
     "output_type": "execute_result"
    }
   ],
   "source": [
    "my_dict4.get(1)"
   ]
  },
  {
   "cell_type": "markdown",
   "id": "ba519e2b",
   "metadata": {},
   "source": [
    "# Add , Remove , Change Items"
   ]
  },
  {
   "cell_type": "code",
   "execution_count": 16,
   "id": "84f60b5f",
   "metadata": {},
   "outputs": [],
   "source": [
    "mydict1 = {'Name':'Asif' , 'ID': 12345 , 'DOB': 1991 ,\n",
    "            'Address' : 'Hilsinki'}"
   ]
  },
  {
   "cell_type": "code",
   "execution_count": 18,
   "id": "1fa34567",
   "metadata": {},
   "outputs": [],
   "source": [
    "mydict1['DOB'] = 1992"
   ]
  },
  {
   "cell_type": "code",
   "execution_count": 19,
   "id": "ff8870d5",
   "metadata": {},
   "outputs": [
    {
     "data": {
      "text/plain": [
       "{'Name': 'Asif', 'ID': 12345, 'DOB': 1992, 'Address': 'Hilsinki'}"
      ]
     },
     "execution_count": 19,
     "metadata": {},
     "output_type": "execute_result"
    }
   ],
   "source": [
    "mydict1"
   ]
  },
  {
   "cell_type": "code",
   "execution_count": 20,
   "id": "b5b0b6b5",
   "metadata": {},
   "outputs": [
    {
     "data": {
      "text/plain": [
       "{'Name': 'Asif', 'ID': 12345, 'DOB': 1995, 'Address': 'Hilsinki'}"
      ]
     },
     "execution_count": 20,
     "metadata": {},
     "output_type": "execute_result"
    }
   ],
   "source": [
    "dict1 = {'DOB':1995}\n",
    "mydict1.update(dict1)\n",
    "mydict1\n"
   ]
  },
  {
   "cell_type": "code",
   "execution_count": 21,
   "id": "f024cc28",
   "metadata": {},
   "outputs": [
    {
     "data": {
      "text/plain": [
       "{'Name': 'Asif',\n",
       " 'ID': 12345,\n",
       " 'DOB': 1995,\n",
       " 'Address': 'Hilsinki',\n",
       " 'Job': 'analyst'}"
      ]
     },
     "execution_count": 21,
     "metadata": {},
     "output_type": "execute_result"
    }
   ],
   "source": [
    "mydict1['Job'] = 'analyst'\n",
    "mydict1"
   ]
  },
  {
   "cell_type": "code",
   "execution_count": 22,
   "id": "939060e7",
   "metadata": {},
   "outputs": [
    {
     "data": {
      "text/plain": [
       "{'Name': 'Asif', 'ID': 12345, 'DOB': 1995, 'Address': 'Hilsinki'}"
      ]
     },
     "execution_count": 22,
     "metadata": {},
     "output_type": "execute_result"
    }
   ],
   "source": [
    "mydict1.pop('Job') # Removing items in the dictionary using Pop method\n",
    "mydict1"
   ]
  },
  {
   "cell_type": "code",
   "execution_count": 23,
   "id": "b9e06809",
   "metadata": {},
   "outputs": [
    {
     "data": {
      "text/plain": [
       "('Address', 'Hilsinki')"
      ]
     },
     "execution_count": 23,
     "metadata": {},
     "output_type": "execute_result"
    }
   ],
   "source": [
    "mydict1.popitem()"
   ]
  },
  {
   "cell_type": "code",
   "execution_count": 24,
   "id": "f7ef0257",
   "metadata": {},
   "outputs": [],
   "source": [
    "mydict2 = {'Name': 'Asif',\n",
    " 'ID': 12345,\n",
    " 'DOB': 1995,\n",
    " 'Address': 'Hilsinki',\n",
    " 'Job': 'analyst'}"
   ]
  },
  {
   "cell_type": "markdown",
   "id": "5267eb4c",
   "metadata": {},
   "source": [
    "# Looping Through Dictionary"
   ]
  },
  {
   "cell_type": "code",
   "execution_count": 27,
   "id": "2dbf47d7",
   "metadata": {},
   "outputs": [
    {
     "name": "stdout",
     "output_type": "stream",
     "text": [
      "Name : Asif\n",
      "ID : 12345\n",
      "DOB : 1995\n",
      "Address : Hilsinki\n",
      "Job : analyst\n"
     ]
    }
   ],
   "source": [
    "for i in mydict2:\n",
    "    print(i , \":\" , mydict2[i])"
   ]
  }
 ],
 "metadata": {
  "kernelspec": {
   "display_name": "base",
   "language": "python",
   "name": "python3"
  },
  "language_info": {
   "codemirror_mode": {
    "name": "ipython",
    "version": 3
   },
   "file_extension": ".py",
   "mimetype": "text/x-python",
   "name": "python",
   "nbconvert_exporter": "python",
   "pygments_lexer": "ipython3",
   "version": "3.13.5"
  }
 },
 "nbformat": 4,
 "nbformat_minor": 5
}
