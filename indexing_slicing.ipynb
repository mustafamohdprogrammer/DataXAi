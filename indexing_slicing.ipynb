{
 "cells": [
  {
   "cell_type": "code",
   "execution_count": 19,
   "id": "1555ec8f-caaf-4b6d-a84b-2adfa310fb3e",
   "metadata": {},
   "outputs": [],
   "source": [
    "a,b = 20 , 20"
   ]
  },
  {
   "cell_type": "code",
   "execution_count": 37,
   "id": "78e9c3fa-4684-4929-b4b8-02f0d2a83386",
   "metadata": {},
   "outputs": [],
   "source": [
    "c = 20\n",
    "d = 20"
   ]
  },
  {
   "cell_type": "code",
   "execution_count": 39,
   "id": "c7101f95-4588-4cd6-9cfe-a334fee9fb6c",
   "metadata": {},
   "outputs": [
    {
     "name": "stdout",
     "output_type": "stream",
     "text": [
      "140728857209880\n",
      "140728857209880\n"
     ]
    }
   ],
   "source": [
    "print(id(c))\n",
    "print(id(d))"
   ]
  },
  {
   "cell_type": "code",
   "execution_count": 33,
   "id": "5515aedd-bc81-4c09-90cc-215bfeb01951",
   "metadata": {},
   "outputs": [],
   "source": [
    "p = r = q = 20"
   ]
  },
  {
   "cell_type": "code",
   "execution_count": 35,
   "id": "3a22822d-9df2-4ee1-a83d-6859ee5e3210",
   "metadata": {},
   "outputs": [
    {
     "name": "stdout",
     "output_type": "stream",
     "text": [
      "140728857209880\n",
      "140728857209880\n",
      "140728857209880\n"
     ]
    }
   ],
   "source": [
    "print(id(p))\n",
    "print(id(q))\n",
    "print(id(r))\n"
   ]
  },
  {
   "cell_type": "code",
   "execution_count": 41,
   "id": "cef37438-e2a4-4327-9403-a53dbc022256",
   "metadata": {},
   "outputs": [
    {
     "data": {
      "text/plain": [
       "'hello python'"
      ]
     },
     "execution_count": 41,
     "metadata": {},
     "output_type": "execute_result"
    }
   ],
   "source": [
    "s = \"hello python\"\n",
    "s"
   ]
  },
  {
   "cell_type": "code",
   "execution_count": 43,
   "id": "6b63ad40-61f9-4781-9f15-e64df6dad256",
   "metadata": {},
   "outputs": [
    {
     "name": "stdout",
     "output_type": "stream",
     "text": [
      "12\n"
     ]
    }
   ],
   "source": [
    "print(len(s))"
   ]
  },
  {
   "cell_type": "markdown",
   "id": "03875392-77c1-40a0-b281-7e8e88be8f51",
   "metadata": {},
   "source": [
    "# forward indexing"
   ]
  },
  {
   "cell_type": "code",
   "execution_count": 48,
   "id": "4fc3c6fa-078f-45ae-b0f8-8f98bf881a1e",
   "metadata": {},
   "outputs": [
    {
     "data": {
      "text/plain": [
       "'h'"
      ]
     },
     "execution_count": 48,
     "metadata": {},
     "output_type": "execute_result"
    }
   ],
   "source": [
    "s[0]\n"
   ]
  },
  {
   "cell_type": "code",
   "execution_count": 71,
   "id": "05933236-2110-4573-85f8-bd3ed98cf0ed",
   "metadata": {},
   "outputs": [
    {
     "data": {
      "text/plain": [
       "'python'"
      ]
     },
     "execution_count": 71,
     "metadata": {},
     "output_type": "execute_result"
    }
   ],
   "source": [
    "s[6:] # slicing"
   ]
  },
  {
   "cell_type": "code",
   "execution_count": 75,
   "id": "9369568b-6eb0-469b-a23e-fd1ea0b8de6e",
   "metadata": {},
   "outputs": [
    {
     "data": {
      "text/plain": [
       "'llo p'"
      ]
     },
     "execution_count": 75,
     "metadata": {},
     "output_type": "execute_result"
    }
   ],
   "source": [
    "s[2:7]"
   ]
  },
  {
   "cell_type": "code",
   "execution_count": 77,
   "id": "530827de-0690-4216-87fd-a5d063c7fcb2",
   "metadata": {},
   "outputs": [
    {
     "data": {
      "text/plain": [
       "'hello'"
      ]
     },
     "execution_count": 77,
     "metadata": {},
     "output_type": "execute_result"
    }
   ],
   "source": [
    "s[:5]"
   ]
  },
  {
   "cell_type": "markdown",
   "id": "52ae064c-fdfb-4286-8833-9ca083517eda",
   "metadata": {},
   "source": [
    "s[1:]"
   ]
  },
  {
   "cell_type": "markdown",
   "id": "a0d4c46c-7e93-4457-85f6-03bd660e95b1",
   "metadata": {},
   "source": [
    "# backward indexing"
   ]
  },
  {
   "cell_type": "code",
   "execution_count": 53,
   "id": "8c657a40-d5ba-4636-9a85-edca71b774b7",
   "metadata": {},
   "outputs": [
    {
     "data": {
      "text/plain": [
       "'n'"
      ]
     },
     "execution_count": 53,
     "metadata": {},
     "output_type": "execute_result"
    }
   ],
   "source": [
    "s[-1]"
   ]
  },
  {
   "cell_type": "code",
   "execution_count": 67,
   "id": "55651b13-b2fe-4622-9094-66119553a0be",
   "metadata": {},
   "outputs": [
    {
     "data": {
      "text/plain": [
       "'python'"
      ]
     },
     "execution_count": 67,
     "metadata": {},
     "output_type": "execute_result"
    }
   ],
   "source": [
    "s[-6:]"
   ]
  },
  {
   "cell_type": "markdown",
   "id": "30f92404-6d76-4358-9510-4f717888d03b",
   "metadata": {},
   "source": [
    "# reverse slicing"
   ]
  },
  {
   "cell_type": "code",
   "execution_count": 88,
   "id": "772d68da-fe8b-4ef4-b59a-910c36143fe2",
   "metadata": {},
   "outputs": [
    {
     "data": {
      "text/plain": [
       "'nohtyp olleh'"
      ]
     },
     "execution_count": 88,
     "metadata": {},
     "output_type": "execute_result"
    }
   ],
   "source": [
    "s[::-1]"
   ]
  },
  {
   "cell_type": "code",
   "execution_count": 96,
   "id": "05a1fb73-b7f3-4675-8498-f81bd3a626bd",
   "metadata": {},
   "outputs": [
    {
     "data": {
      "text/plain": [
       "'hello python'"
      ]
     },
     "execution_count": 96,
     "metadata": {},
     "output_type": "execute_result"
    }
   ],
   "source": [
    "s"
   ]
  },
  {
   "cell_type": "code",
   "execution_count": 98,
   "id": "56ab20c8-fcbc-47fc-a4b9-08a0bddfa5e4",
   "metadata": {},
   "outputs": [
    {
     "data": {
      "text/plain": [
       "'hlph'"
      ]
     },
     "execution_count": 98,
     "metadata": {},
     "output_type": "execute_result"
    }
   ],
   "source": [
    "s[0:11:3] # starting index : ending index : step(the number of index we skip)"
   ]
  },
  {
   "cell_type": "code",
   "execution_count": 100,
   "id": "21959ee4-7c8f-4d1c-9dd3-62e0197e8f09",
   "metadata": {},
   "outputs": [
    {
     "data": {
      "text/plain": [
       "12"
      ]
     },
     "execution_count": 100,
     "metadata": {},
     "output_type": "execute_result"
    }
   ],
   "source": [
    "int(12.3)"
   ]
  }
 ],
 "metadata": {
  "kernelspec": {
   "display_name": "Python 3 (ipykernel)",
   "language": "python",
   "name": "python3"
  },
  "language_info": {
   "codemirror_mode": {
    "name": "ipython",
    "version": 3
   },
   "file_extension": ".py",
   "mimetype": "text/x-python",
   "name": "python",
   "nbconvert_exporter": "python",
   "pygments_lexer": "ipython3",
   "version": "3.12.7"
  }
 },
 "nbformat": 4,
 "nbformat_minor": 5
}
