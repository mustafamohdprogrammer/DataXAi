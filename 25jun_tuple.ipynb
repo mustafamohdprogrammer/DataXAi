{
 "cells": [
  {
   "cell_type": "markdown",
   "id": "a6a09585",
   "metadata": {},
   "source": [
    "# Tuple"
   ]
  },
  {
   "cell_type": "code",
   "execution_count": 1,
   "id": "52987337",
   "metadata": {},
   "outputs": [],
   "source": [
    "tup1 = ()"
   ]
  },
  {
   "cell_type": "code",
   "execution_count": 2,
   "id": "e21698c3",
   "metadata": {},
   "outputs": [],
   "source": [
    "tup2 = (1,2,3,4,5)"
   ]
  },
  {
   "cell_type": "code",
   "execution_count": 3,
   "id": "715eae47",
   "metadata": {},
   "outputs": [],
   "source": [
    "tup3 = (2.2,3.3,4.4,5.5)"
   ]
  },
  {
   "cell_type": "code",
   "execution_count": 4,
   "id": "d38f99e5",
   "metadata": {},
   "outputs": [],
   "source": [
    "tup4 = ('a','b','c','d')"
   ]
  },
  {
   "cell_type": "code",
   "execution_count": 5,
   "id": "e55892a0",
   "metadata": {},
   "outputs": [],
   "source": [
    "tup5 = ('a',2,3.3)"
   ]
  },
  {
   "cell_type": "code",
   "execution_count": 6,
   "id": "09f4e343",
   "metadata": {},
   "outputs": [],
   "source": [
    "tup6 = ('red',[30,40],30)"
   ]
  },
  {
   "cell_type": "markdown",
   "id": "64e0b678",
   "metadata": {},
   "source": [
    "# Tuple indexing"
   ]
  },
  {
   "cell_type": "code",
   "execution_count": 8,
   "id": "11b909d7",
   "metadata": {},
   "outputs": [
    {
     "data": {
      "text/plain": [
       "3"
      ]
     },
     "execution_count": 8,
     "metadata": {},
     "output_type": "execute_result"
    }
   ],
   "source": [
    "tup2[2]"
   ]
  },
  {
   "cell_type": "code",
   "execution_count": 9,
   "id": "98e254ae",
   "metadata": {},
   "outputs": [
    {
     "data": {
      "text/plain": [
       "'d'"
      ]
     },
     "execution_count": 9,
     "metadata": {},
     "output_type": "execute_result"
    }
   ],
   "source": [
    "tup4[-1]"
   ]
  },
  {
   "cell_type": "markdown",
   "id": "580b2c5e",
   "metadata": {},
   "source": [
    "# tuple slicing"
   ]
  },
  {
   "cell_type": "code",
   "execution_count": 10,
   "id": "44ca1b10",
   "metadata": {},
   "outputs": [],
   "source": [
    "mytuple = ('one','two','three','four','five','six','seven','eight')"
   ]
  },
  {
   "cell_type": "code",
   "execution_count": 11,
   "id": "f0628d7f",
   "metadata": {},
   "outputs": [
    {
     "data": {
      "text/plain": [
       "('one', 'two', 'three')"
      ]
     },
     "execution_count": 11,
     "metadata": {},
     "output_type": "execute_result"
    }
   ],
   "source": [
    "mytuple[0:3]"
   ]
  },
  {
   "cell_type": "code",
   "execution_count": 12,
   "id": "bc98fdf0",
   "metadata": {},
   "outputs": [
    {
     "data": {
      "text/plain": [
       "('three', 'four', 'five')"
      ]
     },
     "execution_count": 12,
     "metadata": {},
     "output_type": "execute_result"
    }
   ],
   "source": [
    "mytuple[2:5]"
   ]
  },
  {
   "cell_type": "markdown",
   "id": "3b322319",
   "metadata": {},
   "source": [
    "# loop through a tuple"
   ]
  },
  {
   "cell_type": "code",
   "execution_count": 13,
   "id": "9f01a8c5",
   "metadata": {},
   "outputs": [
    {
     "name": "stdout",
     "output_type": "stream",
     "text": [
      "one\n",
      "two\n",
      "three\n",
      "four\n",
      "five\n",
      "six\n",
      "seven\n",
      "eight\n"
     ]
    }
   ],
   "source": [
    "for i in mytuple:\n",
    "    print(i)"
   ]
  },
  {
   "cell_type": "markdown",
   "id": "406c57a2",
   "metadata": {},
   "source": [
    "# Index"
   ]
  },
  {
   "cell_type": "code",
   "execution_count": 14,
   "id": "0d2a6496",
   "metadata": {},
   "outputs": [
    {
     "data": {
      "text/plain": [
       "0"
      ]
     },
     "execution_count": 14,
     "metadata": {},
     "output_type": "execute_result"
    }
   ],
   "source": [
    "mytuple.index('one')"
   ]
  },
  {
   "cell_type": "code",
   "execution_count": 15,
   "id": "303b2f6c",
   "metadata": {},
   "outputs": [
    {
     "data": {
      "text/plain": [
       "4"
      ]
     },
     "execution_count": 15,
     "metadata": {},
     "output_type": "execute_result"
    }
   ],
   "source": [
    "mytuple.index('five')"
   ]
  },
  {
   "cell_type": "markdown",
   "id": "c29357d1",
   "metadata": {},
   "source": [
    "# Sorting"
   ]
  },
  {
   "cell_type": "code",
   "execution_count": 16,
   "id": "3bd874e9",
   "metadata": {},
   "outputs": [],
   "source": [
    "mytuple2 = (43,67,99,12,6,90,67)"
   ]
  },
  {
   "cell_type": "code",
   "execution_count": 18,
   "id": "a487d219",
   "metadata": {},
   "outputs": [
    {
     "data": {
      "text/plain": [
       "[6, 12, 43, 67, 67, 90, 99]"
      ]
     },
     "execution_count": 18,
     "metadata": {},
     "output_type": "execute_result"
    }
   ],
   "source": [
    "sorted(mytuple2)"
   ]
  },
  {
   "cell_type": "code",
   "execution_count": 20,
   "id": "173854d0",
   "metadata": {},
   "outputs": [
    {
     "data": {
      "text/plain": [
       "[99, 90, 67, 67, 43, 12, 6]"
      ]
     },
     "execution_count": 20,
     "metadata": {},
     "output_type": "execute_result"
    }
   ],
   "source": [
    "sorted(mytuple2,reverse=True)"
   ]
  },
  {
   "cell_type": "markdown",
   "id": "40d7a18c",
   "metadata": {},
   "source": [
    "# Tuple Membership"
   ]
  },
  {
   "cell_type": "code",
   "execution_count": 21,
   "id": "01ac4c23",
   "metadata": {},
   "outputs": [
    {
     "data": {
      "text/plain": [
       "True"
      ]
     },
     "execution_count": 21,
     "metadata": {},
     "output_type": "execute_result"
    }
   ],
   "source": [
    "'one' in mytuple"
   ]
  },
  {
   "cell_type": "code",
   "execution_count": 23,
   "id": "21b17df0",
   "metadata": {},
   "outputs": [
    {
     "name": "stdout",
     "output_type": "stream",
     "text": [
      "three is present in the tuple\n"
     ]
    }
   ],
   "source": [
    "if \"three\"  in mytuple:\n",
    "    print('three is present in the tuple')\n",
    "else:\n",
    "    print('three is not present in tuple')"
   ]
  }
 ],
 "metadata": {
  "kernelspec": {
   "display_name": "base",
   "language": "python",
   "name": "python3"
  },
  "language_info": {
   "codemirror_mode": {
    "name": "ipython",
    "version": 3
   },
   "file_extension": ".py",
   "mimetype": "text/x-python",
   "name": "python",
   "nbconvert_exporter": "python",
   "pygments_lexer": "ipython3",
   "version": "3.13.5"
  }
 },
 "nbformat": 4,
 "nbformat_minor": 5
}
