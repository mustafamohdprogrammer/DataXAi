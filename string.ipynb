{
 "cells": [
  {
   "cell_type": "markdown",
   "id": "a5487710-0900-4927-882e-b45e4e97cb31",
   "metadata": {},
   "source": [
    "# operators and type function"
   ]
  },
  {
   "cell_type": "code",
   "execution_count": 1,
   "id": "b77f1f47-593e-4d3e-af06-e6fb21db44c8",
   "metadata": {},
   "outputs": [
    {
     "name": "stdout",
     "output_type": "stream",
     "text": [
      "5\n",
      "1\n",
      "6\n",
      "1.5\n",
      "9\n",
      "1\n",
      "1\n",
      "<class 'int'>\n",
      "<class 'float'>\n",
      "<class 'complex'>\n",
      "<class 'str'>\n",
      "<class 'list'>\n",
      "<class 'dict'>\n",
      "<class 'set'>\n",
      "<class 'tuple'>\n",
      "<class 'bool'>\n",
      "<class 'bool'>\n"
     ]
    }
   ],
   "source": [
    "\n",
    "print(3 + 2)   # addition(+)\n",
    "print(3 - 2)   # subtraction(-)\n",
    "print(3 * 2)   # multiplication(*)\n",
    "print(3 / 2)   # division(/)\n",
    "print(3 ** 2)  # exponential(**)\n",
    "print(3 % 2)   # modulus(%)\n",
    "print(3 // 2)  # Floor division operator(//)\n",
    "\n",
    "# Checking data types\n",
    "\n",
    "print(type(10))                  # Int\n",
    "print(type(3.14))                # Float\n",
    "print(type(1 + 3j))              # Complex\n",
    "print(type('Asabeneh'))          # String\n",
    "print(type([1, 2, 3]))           # List\n",
    "print(type({'name':'Asabeneh'})) # Dictionary\n",
    "print(type({9.8, 3.14, 2.7}))    # Set\n",
    "print(type((9.8, 3.14, 2.7)))    # Tuple\n",
    "print(type(3 == 3))              # Bool\n",
    "print(type(3 >= 3))              # Bool"
   ]
  },
  {
   "cell_type": "code",
   "execution_count": 9,
   "id": "74e18d34-fc34-4602-9aff-8dc754ce6304",
   "metadata": {},
   "outputs": [
    {
     "name": "stdout",
     "output_type": "stream",
     "text": [
      "5\n",
      "a + b =  5\n",
      "a - b =  1\n",
      "a * b =  6\n",
      "a / b =  1.5\n",
      "a % b =  1\n",
      "a // b =  1\n",
      "a ** b =  9\n"
     ]
    }
   ],
   "source": [
    "a = 3 # a is a variable name and 3 is an integer data type\n",
    "b = 2 # b is a variable name and 3 is an integer data type\n",
    "\n",
    "# Arithmetic operations and assigning the result to a variable\n",
    "total = a + b\n",
    "diff = a - b\n",
    "product = a * b\n",
    "division = a / b\n",
    "remainder = a % b\n",
    "floor_division = a // b\n",
    "exponential = a ** b\n",
    "\n",
    "# I should have used sum instead of total but sum is a built-in function try to avoid overriding builtin functions\n",
    "print(total) # if you don't label your print with some string, you never know from where is  the result is coming\n",
    "print('a + b = ', total)\n",
    "print('a - b = ', diff)\n",
    "print('a * b = ', product)\n",
    "print('a / b = ', division)\n",
    "print('a % b = ', remainder)\n",
    "print('a // b = ', floor_division)\n",
    "print('a ** b = ', exponential)"
   ]
  },
  {
   "cell_type": "markdown",
   "id": "7dc159e0-b0ec-4ba4-a431-c068c1e66047",
   "metadata": {},
   "source": [
    "## String Methods"
   ]
  },
  {
   "cell_type": "markdown",
   "id": "9e17c93f-9fde-4b0b-9d87-cca93ebbefe9",
   "metadata": {},
   "source": [
    "# captalize"
   ]
  },
  {
   "cell_type": "code",
   "execution_count": 13,
   "id": "236f6b38-0cb0-45db-873f-c0c9317e235e",
   "metadata": {},
   "outputs": [
    {
     "name": "stdout",
     "output_type": "stream",
     "text": [
      "Thirty days of python\n"
     ]
    }
   ],
   "source": [
    "challenge = 'thirty days of python'\n",
    "print(challenge.capitalize()) "
   ]
  },
  {
   "cell_type": "markdown",
   "id": "26c2d254-8fe9-4ce2-8fdf-3ce1cab8e64f",
   "metadata": {},
   "source": [
    "# count()"
   ]
  },
  {
   "cell_type": "code",
   "execution_count": 18,
   "id": "edaee7df-9344-48c9-8f8e-369e14074c66",
   "metadata": {},
   "outputs": [
    {
     "name": "stdout",
     "output_type": "stream",
     "text": [
      "3\n",
      "1\n",
      "2\n"
     ]
    }
   ],
   "source": [
    "challenge = 'thirty days of python'\n",
    "print(challenge.count('y')) # 3\n",
    "print(challenge.count('y', 7, 14)) # 1\n",
    "print(challenge.count('th'))"
   ]
  },
  {
   "cell_type": "markdown",
   "id": "fceb74dc-259a-4668-a536-1d66395b703d",
   "metadata": {},
   "source": [
    "# endswith()"
   ]
  },
  {
   "cell_type": "code",
   "execution_count": 25,
   "id": "6b809a22-562d-4d1c-b836-6767fe5795df",
   "metadata": {},
   "outputs": [
    {
     "name": "stdout",
     "output_type": "stream",
     "text": [
      "True\n",
      "False\n"
     ]
    }
   ],
   "source": [
    "challenge = 'thirty days of python'\n",
    "print(challenge.endswith('on'))   # True\n",
    "print(challenge.endswith('tion'))"
   ]
  },
  {
   "cell_type": "markdown",
   "id": "8eb46799-4496-49e3-8c9a-e35e2eee2a72",
   "metadata": {},
   "source": [
    "# expandtabs()"
   ]
  },
  {
   "cell_type": "code",
   "execution_count": 38,
   "id": "df3493d5-cdde-4943-887d-0a6966241d24",
   "metadata": {},
   "outputs": [
    {
     "name": "stdout",
     "output_type": "stream",
     "text": [
      "thirty  days    of      python\n",
      "thirty    days      of        python\n"
     ]
    }
   ],
   "source": [
    "challenge = 'thirty\\tdays\\tof\\tpython'\n",
    "print(challenge.expandtabs())\n",
    "print(challenge.expandtabs(10))"
   ]
  },
  {
   "cell_type": "markdown",
   "id": "f21321e1-6406-4f0d-a01f-9b2d6ce17a9c",
   "metadata": {},
   "source": [
    "# find():"
   ]
  },
  {
   "cell_type": "code",
   "execution_count": 50,
   "id": "d0fed4f3-505b-457d-a346-18fc60174182",
   "metadata": {},
   "outputs": [
    {
     "name": "stdout",
     "output_type": "stream",
     "text": [
      "12\n"
     ]
    }
   ],
   "source": [
    "c =   'thirty days of python'\n",
    "print(c.find('of'))"
   ]
  },
  {
   "cell_type": "markdown",
   "id": "724613e7-c7ef-4331-b2ac-06b170e5695c",
   "metadata": {},
   "source": [
    "# format()"
   ]
  },
  {
   "cell_type": "code",
   "execution_count": 53,
   "id": "e8cdadc5-6097-44d8-885f-036093ce0eb7",
   "metadata": {},
   "outputs": [
    {
     "name": "stdout",
     "output_type": "stream",
     "text": [
      "I am  Asabeneh Yetayeh. I am a teacher. I live in Finland.\n"
     ]
    }
   ],
   "source": [
    "first_name = 'Asabeneh'\n",
    "last_name = 'Yetayeh'\n",
    "job = 'teacher'\n",
    "country = 'Finland'\n",
    "sentence = 'I am  {} {}. I am a {}. I live in {}.'.format(first_name,last_name,job,country)\n",
    "print(sentence)"
   ]
  },
  {
   "cell_type": "code",
   "execution_count": 55,
   "id": "f8cb98cb-0879-4389-96be-2291168ba496",
   "metadata": {},
   "outputs": [
    {
     "name": "stdout",
     "output_type": "stream",
     "text": [
      "The area of circle with 10 is 3.14\n"
     ]
    }
   ],
   "source": [
    "radius = 10\n",
    "pi = 3.14\n",
    "area = pi # radius ## 2\n",
    "result = 'The area of circle with {} is {}'.format(str(radius), str(area))\n",
    "print(result) # The area of circle with 10 is 314.0"
   ]
  },
  {
   "cell_type": "markdown",
   "id": "1f25243d-9ba0-40de-8e0d-bca413ae250a",
   "metadata": {},
   "source": [
    "# isalnum()"
   ]
  },
  {
   "cell_type": "code",
   "execution_count": 73,
   "id": "aaa3d709-7a09-49bf-b936-beeda77045c8",
   "metadata": {},
   "outputs": [
    {
     "name": "stdout",
     "output_type": "stream",
     "text": [
      "True\n"
     ]
    }
   ],
   "source": [
    "challenge = 'ThirtyDaysPython'\n",
    "print(challenge.isalnum())"
   ]
  },
  {
   "cell_type": "markdown",
   "id": "e9d7ebf0-8b3a-49b8-8009-1dc76804a97b",
   "metadata": {},
   "source": [
    "# isdigit()"
   ]
  },
  {
   "cell_type": "code",
   "execution_count": null,
   "id": "e7b10dae-4730-4d63-9f08-7a304dbafea9",
   "metadata": {},
   "outputs": [],
   "source": [
    "challenge = 'Thirty'\n",
    "print(challenge.isdigit()) # False\n",
    "challenge = '30'\n",
    "print(challenge.digit()) "
   ]
  }
 ],
 "metadata": {
  "kernelspec": {
   "display_name": "Python 3 (ipykernel)",
   "language": "python",
   "name": "python3"
  },
  "language_info": {
   "codemirror_mode": {
    "name": "ipython",
    "version": 3
   },
   "file_extension": ".py",
   "mimetype": "text/x-python",
   "name": "python",
   "nbconvert_exporter": "python",
   "pygments_lexer": "ipython3",
   "version": "3.12.7"
  }
 },
 "nbformat": 4,
 "nbformat_minor": 5
}
