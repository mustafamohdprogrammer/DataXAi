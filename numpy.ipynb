{
 "cells": [
  {
   "cell_type": "markdown",
   "id": "94bc00e1",
   "metadata": {},
   "source": [
    "# numpy"
   ]
  },
  {
   "cell_type": "code",
   "execution_count": 4,
   "id": "dc671c79",
   "metadata": {},
   "outputs": [],
   "source": [
    "import numpy as np"
   ]
  },
  {
   "cell_type": "code",
   "execution_count": 5,
   "id": "7037a59f",
   "metadata": {},
   "outputs": [
    {
     "data": {
      "text/plain": [
       "'2.1.3'"
      ]
     },
     "execution_count": 5,
     "metadata": {},
     "output_type": "execute_result"
    }
   ],
   "source": [
    "np.__version__"
   ]
  },
  {
   "cell_type": "code",
   "execution_count": 9,
   "id": "b7440cc4",
   "metadata": {},
   "outputs": [
    {
     "name": "stdout",
     "output_type": "stream",
     "text": [
      "[0, 1, 2, 3, 4, 5]\n",
      "<class 'list'>\n"
     ]
    }
   ],
   "source": [
    "#create a list\n",
    "my_list = [0,1,2,3,4,5]\n",
    "print(my_list)\n",
    "print(type(my_list))"
   ]
  },
  {
   "cell_type": "code",
   "execution_count": 10,
   "id": "56761ee1",
   "metadata": {},
   "outputs": [
    {
     "data": {
      "text/plain": [
       "array([0, 1, 2, 3, 4, 5])"
      ]
     },
     "execution_count": 10,
     "metadata": {},
     "output_type": "execute_result"
    }
   ],
   "source": [
    "np.array(my_list)"
   ]
  },
  {
   "cell_type": "code",
   "execution_count": 12,
   "id": "029e31cc",
   "metadata": {},
   "outputs": [
    {
     "data": {
      "text/plain": [
       "array([0, 1, 2, 3, 4, 5])"
      ]
     },
     "execution_count": 12,
     "metadata": {},
     "output_type": "execute_result"
    }
   ],
   "source": [
    "arr = np.array(my_list)\n",
    "arr"
   ]
  },
  {
   "cell_type": "code",
   "execution_count": 14,
   "id": "3ff8f190",
   "metadata": {},
   "outputs": [
    {
     "name": "stdout",
     "output_type": "stream",
     "text": [
      "<class 'list'>\n",
      "<class 'numpy.ndarray'>\n"
     ]
    }
   ],
   "source": [
    "print(type(my_list))\n",
    "print(type(arr))"
   ]
  },
  {
   "cell_type": "code",
   "execution_count": 25,
   "id": "2576292b",
   "metadata": {},
   "outputs": [
    {
     "name": "stdout",
     "output_type": "stream",
     "text": [
      "[10 13 16 19 22]\n",
      "[10 11 12 13 14 15 16 17 18 19]\n",
      "[0 1 2 3 4 5 6 7 8 9]\n",
      "[10 15 20 25 30 35 40 45]\n"
     ]
    }
   ],
   "source": [
    "print(np.arange(10,24,3)) # start # end # step\n",
    "print(np.arange(10,20))\n",
    "print(np.arange(10))\n",
    "print(np.arange(10,50,5))"
   ]
  },
  {
   "cell_type": "code",
   "execution_count": null,
   "id": "0293fb77",
   "metadata": {},
   "outputs": [
    {
     "name": "stdout",
     "output_type": "stream",
     "text": [
      "[-20 -19 -18 -17 -16 -15 -14 -13 -12 -11 -10  -9  -8  -7  -6  -5  -4  -3\n",
      "  -2  -1   0   1   2   3   4   5   6   7]\n",
      "[]\n"
     ]
    }
   ],
   "source": [
    "print(np.arange(-20,8))\n",
    "print(np.arange(20,8)) # this will not work because the first arguent should be less than the second argument"
   ]
  },
  {
   "cell_type": "code",
   "execution_count": 33,
   "id": "e7fdd573",
   "metadata": {},
   "outputs": [
    {
     "name": "stdout",
     "output_type": "stream",
     "text": [
      "[-20 -18 -16 -14 -12 -10  -8  -6  -4  -2   0   2   4   6]\n"
     ]
    }
   ],
   "source": [
    "print(np.arange(-20,8,2))"
   ]
  },
  {
   "cell_type": "code",
   "execution_count": 42,
   "id": "767d71d8",
   "metadata": {},
   "outputs": [
    {
     "name": "stdout",
     "output_type": "stream",
     "text": [
      "[0 0 0 0 0 0 0 0 0 0 0 0 0 0 0 0 0 0 0 0 0 0 0 0 0 0 0 0 0 0]\n",
      "[[0 0 0 0]\n",
      " [0 0 0 0]\n",
      " [0 0 0 0]]\n",
      "[[0. 0. 0. 0.]\n",
      " [0. 0. 0. 0.]\n",
      " [0. 0. 0. 0.]]\n",
      "[[False False False False]\n",
      " [False False False False]\n",
      " [False False False False]]\n",
      "[['' '' '' '']\n",
      " ['' '' '' '']\n",
      " ['' '' '' '']]\n",
      "[[0 0 0 0]\n",
      " [0 0 0 0]\n",
      " [0 0 0 0]]\n",
      "[[0.+0.j 0.+0.j 0.+0.j 0.+0.j]\n",
      " [0.+0.j 0.+0.j 0.+0.j 0.+0.j]\n",
      " [0.+0.j 0.+0.j 0.+0.j 0.+0.j]]\n",
      "[[0 0 0 0]\n",
      " [0 0 0 0]\n",
      " [0 0 0 0]]\n",
      "[[0. 0. 0. 0.]\n",
      " [0. 0. 0. 0.]\n",
      " [0. 0. 0. 0.]]\n",
      "[[0.+0.j 0.+0.j 0.+0.j 0.+0.j]\n",
      " [0.+0.j 0.+0.j 0.+0.j 0.+0.j]\n",
      " [0.+0.j 0.+0.j 0.+0.j 0.+0.j]]\n"
     ]
    }
   ],
   "source": [
    "print(np.zeros(30, dtype=int)) # create an array of zeros with 30 elements\n",
    "print(np.zeros((3, 4),dtype=int)) # create a 2D array of zeros with 3 rows and 4 columns\n",
    "print(np.zeros((3, 4),dtype=float)) # create a 2D array of zeros with 3 rows and 4 columns, but with float type\n",
    "print(np.zeros((3, 4),dtype=bool)) # create a 2D array of zeros with 3 rows and 4 columns, but with boolean type\n",
    "print(np.zeros((3, 4),dtype=str)) # create a 2D array of zeros with 3 rows and 4 columns, but with string type\n",
    "print(np.zeros((3, 4),dtype=object) )# create a 2D array of zeros with 3 rows and 4 columns, but with object type\n",
    "print(np.zeros((3, 4),dtype=complex)) # create a 2D array    of zeros with 3 rows and 4 columns, but with complex type\n",
    "print(np.zeros((3, 4),dtype=np.int64) )# create a 2D array of zeros with 3 rows and 4 columns, but with int64 type\n",
    "print(np.zeros((3, 4),dtype=np.float64)) # create a 2D array of zeros with 3 rows and 4 columns, but with float64 type\n",
    "print(np.zeros((3, 4),dtype=np.complex128)) # create a 2   D array of zeros with 3 rows and 4 columns, but with complex128 type"
   ]
  },
  {
   "cell_type": "code",
   "execution_count": null,
   "id": "fba7077a",
   "metadata": {},
   "outputs": [
    {
     "data": {
      "text/plain": [
       "(5, 9)"
      ]
     },
     "execution_count": 44,
     "metadata": {},
     "output_type": "execute_result"
    }
   ],
   "source": [
    "nd = np.zeros((5, 9), dtype=int)\n",
    "nd.shape # check the shape of the array\n",
    "nd.ndim # check the number of dimensions of the array"
   ]
  },
  {
   "cell_type": "code",
   "execution_count": 54,
   "id": "6040e38c",
   "metadata": {},
   "outputs": [
    {
     "data": {
      "text/plain": [
       "array([1, 1, 1])"
      ]
     },
     "execution_count": 54,
     "metadata": {},
     "output_type": "execute_result"
    }
   ],
   "source": [
    "np.ones(3,dtype=int) # create an array of ones with 3 elements"
   ]
  },
  {
   "cell_type": "code",
   "execution_count": 52,
   "id": "efc9df0b",
   "metadata": {},
   "outputs": [
    {
     "name": "stdout",
     "output_type": "stream",
     "text": [
      "[[1 1 1 1 1 1 1 1 1 1]\n",
      " [1 1 1 1 1 1 1 1 1 1]\n",
      " [1 1 1 1 1 1 1 1 1 1]\n",
      " [1 1 1 1 1 1 1 1 1 1]\n",
      " [1 1 1 1 1 1 1 1 1 1]\n",
      " [1 1 1 1 1 1 1 1 1 1]\n",
      " [1 1 1 1 1 1 1 1 1 1]\n",
      " [1 1 1 1 1 1 1 1 1 1]\n",
      " [1 1 1 1 1 1 1 1 1 1]\n",
      " [1 1 1 1 1 1 1 1 1 1]]\n",
      "(10, 10)\n",
      "2\n"
     ]
    }
   ],
   "source": [
    "nd1 = np.ones((10,10),dtype=int) # create a 2D array of ones with 10 rows and 10 columns\n",
    "print(nd1) # print the array\n",
    "print(nd1.shape) # check the shape of the array\n",
    "print(nd1.ndim) # check the number of dimensions of the array"
   ]
  }
 ],
 "metadata": {
  "kernelspec": {
   "display_name": "base",
   "language": "python",
   "name": "python3"
  },
  "language_info": {
   "codemirror_mode": {
    "name": "ipython",
    "version": 3
   },
   "file_extension": ".py",
   "mimetype": "text/x-python",
   "name": "python",
   "nbconvert_exporter": "python",
   "pygments_lexer": "ipython3",
   "version": "3.13.5"
  }
 },
 "nbformat": 4,
 "nbformat_minor": 5
}
