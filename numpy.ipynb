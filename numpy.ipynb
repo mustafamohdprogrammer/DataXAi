{
 "cells": [
  {
   "cell_type": "markdown",
   "id": "94bc00e1",
   "metadata": {},
   "source": [
    "# numpy"
   ]
  },
  {
   "cell_type": "code",
   "execution_count": 1,
   "id": "dc671c79",
   "metadata": {},
   "outputs": [],
   "source": [
    "import numpy as np"
   ]
  },
  {
   "cell_type": "code",
   "execution_count": 2,
   "id": "7037a59f",
   "metadata": {},
   "outputs": [
    {
     "data": {
      "text/plain": [
       "'2.1.3'"
      ]
     },
     "execution_count": 2,
     "metadata": {},
     "output_type": "execute_result"
    }
   ],
   "source": [
    "np.__version__"
   ]
  },
  {
   "cell_type": "code",
   "execution_count": 3,
   "id": "b7440cc4",
   "metadata": {},
   "outputs": [
    {
     "name": "stdout",
     "output_type": "stream",
     "text": [
      "[0, 1, 2, 3, 4, 5]\n",
      "<class 'list'>\n"
     ]
    }
   ],
   "source": [
    "#create a list\n",
    "my_list = [0,1,2,3,4,5]\n",
    "print(my_list)\n",
    "print(type(my_list))"
   ]
  },
  {
   "cell_type": "code",
   "execution_count": 4,
   "id": "56761ee1",
   "metadata": {},
   "outputs": [
    {
     "data": {
      "text/plain": [
       "array([0, 1, 2, 3, 4, 5])"
      ]
     },
     "execution_count": 4,
     "metadata": {},
     "output_type": "execute_result"
    }
   ],
   "source": [
    "np.array(my_list)"
   ]
  },
  {
   "cell_type": "code",
   "execution_count": 5,
   "id": "029e31cc",
   "metadata": {},
   "outputs": [
    {
     "data": {
      "text/plain": [
       "array([0, 1, 2, 3, 4, 5])"
      ]
     },
     "execution_count": 5,
     "metadata": {},
     "output_type": "execute_result"
    }
   ],
   "source": [
    "arr = np.array(my_list)\n",
    "arr"
   ]
  },
  {
   "cell_type": "code",
   "execution_count": 6,
   "id": "3ff8f190",
   "metadata": {},
   "outputs": [
    {
     "name": "stdout",
     "output_type": "stream",
     "text": [
      "<class 'list'>\n",
      "<class 'numpy.ndarray'>\n"
     ]
    }
   ],
   "source": [
    "print(type(my_list))\n",
    "print(type(arr))"
   ]
  },
  {
   "cell_type": "code",
   "execution_count": 7,
   "id": "2576292b",
   "metadata": {},
   "outputs": [
    {
     "name": "stdout",
     "output_type": "stream",
     "text": [
      "[10 13 16 19 22]\n",
      "[10 11 12 13 14 15 16 17 18 19]\n",
      "[0 1 2 3 4 5 6 7 8 9]\n",
      "[10 15 20 25 30 35 40 45]\n"
     ]
    }
   ],
   "source": [
    "print(np.arange(10,24,3)) # start # end # step\n",
    "print(np.arange(10,20))\n",
    "print(np.arange(10))\n",
    "print(np.arange(10,50,5))"
   ]
  },
  {
   "cell_type": "code",
   "execution_count": 8,
   "id": "0293fb77",
   "metadata": {},
   "outputs": [
    {
     "name": "stdout",
     "output_type": "stream",
     "text": [
      "[-20 -19 -18 -17 -16 -15 -14 -13 -12 -11 -10  -9  -8  -7  -6  -5  -4  -3\n",
      "  -2  -1   0   1   2   3   4   5   6   7]\n",
      "[]\n"
     ]
    }
   ],
   "source": [
    "print(np.arange(-20,8))\n",
    "print(np.arange(20,8)) # this will not work because the first arguent should be less than the second argument"
   ]
  },
  {
   "cell_type": "code",
   "execution_count": 9,
   "id": "e7fdd573",
   "metadata": {},
   "outputs": [
    {
     "name": "stdout",
     "output_type": "stream",
     "text": [
      "[-20 -18 -16 -14 -12 -10  -8  -6  -4  -2   0   2   4   6]\n"
     ]
    }
   ],
   "source": [
    "print(np.arange(-20,8,2))"
   ]
  },
  {
   "cell_type": "code",
   "execution_count": 10,
   "id": "767d71d8",
   "metadata": {},
   "outputs": [
    {
     "name": "stdout",
     "output_type": "stream",
     "text": [
      "[0 0 0 0 0 0 0 0 0 0 0 0 0 0 0 0 0 0 0 0 0 0 0 0 0 0 0 0 0 0]\n",
      "[[0 0 0 0]\n",
      " [0 0 0 0]\n",
      " [0 0 0 0]]\n",
      "[[0. 0. 0. 0.]\n",
      " [0. 0. 0. 0.]\n",
      " [0. 0. 0. 0.]]\n",
      "[[False False False False]\n",
      " [False False False False]\n",
      " [False False False False]]\n",
      "[['' '' '' '']\n",
      " ['' '' '' '']\n",
      " ['' '' '' '']]\n",
      "[[0 0 0 0]\n",
      " [0 0 0 0]\n",
      " [0 0 0 0]]\n",
      "[[0.+0.j 0.+0.j 0.+0.j 0.+0.j]\n",
      " [0.+0.j 0.+0.j 0.+0.j 0.+0.j]\n",
      " [0.+0.j 0.+0.j 0.+0.j 0.+0.j]]\n",
      "[[0 0 0 0]\n",
      " [0 0 0 0]\n",
      " [0 0 0 0]]\n",
      "[[0. 0. 0. 0.]\n",
      " [0. 0. 0. 0.]\n",
      " [0. 0. 0. 0.]]\n",
      "[[0.+0.j 0.+0.j 0.+0.j 0.+0.j]\n",
      " [0.+0.j 0.+0.j 0.+0.j 0.+0.j]\n",
      " [0.+0.j 0.+0.j 0.+0.j 0.+0.j]]\n"
     ]
    }
   ],
   "source": [
    "print(np.zeros(30, dtype=int)) # create an array of zeros with 30 elements\n",
    "print(np.zeros((3, 4),dtype=int)) # create a 2D array of zeros with 3 rows and 4 columns\n",
    "print(np.zeros((3, 4),dtype=float)) # create a 2D array of zeros with 3 rows and 4 columns, but with float type\n",
    "print(np.zeros((3, 4),dtype=bool)) # create a 2D array of zeros with 3 rows and 4 columns, but with boolean type\n",
    "print(np.zeros((3, 4),dtype=str)) # create a 2D array of zeros with 3 rows and 4 columns, but with string type\n",
    "print(np.zeros((3, 4),dtype=object) )# create a 2D array of zeros with 3 rows and 4 columns, but with object type\n",
    "print(np.zeros((3, 4),dtype=complex)) # create a 2D array    of zeros with 3 rows and 4 columns, but with complex type\n",
    "print(np.zeros((3, 4),dtype=np.int64) )# create a 2D array of zeros with 3 rows and 4 columns, but with int64 type\n",
    "print(np.zeros((3, 4),dtype=np.float64)) # create a 2D array of zeros with 3 rows and 4 columns, but with float64 type\n",
    "print(np.zeros((3, 4),dtype=np.complex128)) # create a 2   D array of zeros with 3 rows and 4 columns, but with complex128 type"
   ]
  },
  {
   "cell_type": "code",
   "execution_count": 11,
   "id": "fba7077a",
   "metadata": {},
   "outputs": [
    {
     "data": {
      "text/plain": [
       "2"
      ]
     },
     "execution_count": 11,
     "metadata": {},
     "output_type": "execute_result"
    }
   ],
   "source": [
    "nd = np.zeros((5, 9), dtype=int)\n",
    "nd.shape # check the shape of the array\n",
    "nd.ndim # check the number of dimensions of the array"
   ]
  },
  {
   "cell_type": "code",
   "execution_count": 12,
   "id": "6040e38c",
   "metadata": {},
   "outputs": [
    {
     "data": {
      "text/plain": [
       "array([1, 1, 1])"
      ]
     },
     "execution_count": 12,
     "metadata": {},
     "output_type": "execute_result"
    }
   ],
   "source": [
    "np.ones(3,dtype=int) # create an array of ones with 3 elements"
   ]
  },
  {
   "cell_type": "code",
   "execution_count": 13,
   "id": "efc9df0b",
   "metadata": {},
   "outputs": [
    {
     "name": "stdout",
     "output_type": "stream",
     "text": [
      "[[1 1 1 1 1 1 1 1 1 1]\n",
      " [1 1 1 1 1 1 1 1 1 1]\n",
      " [1 1 1 1 1 1 1 1 1 1]\n",
      " [1 1 1 1 1 1 1 1 1 1]\n",
      " [1 1 1 1 1 1 1 1 1 1]\n",
      " [1 1 1 1 1 1 1 1 1 1]\n",
      " [1 1 1 1 1 1 1 1 1 1]\n",
      " [1 1 1 1 1 1 1 1 1 1]\n",
      " [1 1 1 1 1 1 1 1 1 1]\n",
      " [1 1 1 1 1 1 1 1 1 1]]\n",
      "(10, 10)\n",
      "2\n"
     ]
    }
   ],
   "source": [
    "nd1 = np.ones((10,10),dtype=int) # create a 2D array of ones with 10 rows and 10 columns\n",
    "print(nd1) # print the array\n",
    "print(nd1.shape) # check the shape of the array\n",
    "print(nd1.ndim) # check the number of dimensions of the array"
   ]
  },
  {
   "cell_type": "code",
   "execution_count": 14,
   "id": "943c7540",
   "metadata": {},
   "outputs": [
    {
     "data": {
      "text/plain": [
       "array([[12, 59, 89,  3, 42, 13, 60, 77, 98, 27],\n",
       "       [61, 31, 33, 25, 87, 33, 57, 21, 84, 40],\n",
       "       [41, 14, 32, 30, 22, 64, 10, 85, 37, 72],\n",
       "       [83, 29, 59, 54, 20, 82, 58, 60, 86, 94],\n",
       "       [35, 73, 45, 74, 51, 93, 16, 16, 80, 58],\n",
       "       [45, 94, 65,  0, 73, 96, 32, 39,  4,  8],\n",
       "       [ 3, 43, 83,  8, 24, 82, 78, 51, 21, 30],\n",
       "       [81, 23, 63, 34, 43, 13, 65, 51, 69, 20],\n",
       "       [31,  2, 74, 88, 72,  0, 29, 36, 95, 29],\n",
       "       [55, 90, 99, 64,  2, 88, 47,  0,  6, 67]], dtype=int32)"
      ]
     },
     "execution_count": 14,
     "metadata": {},
     "output_type": "execute_result"
    }
   ],
   "source": [
    "arr = np.random.randint(0,100,(10,10))\n",
    "arr"
   ]
  },
  {
   "cell_type": "code",
   "execution_count": 15,
   "id": "3564fe47",
   "metadata": {},
   "outputs": [
    {
     "data": {
      "text/plain": [
       "np.int32(87)"
      ]
     },
     "execution_count": 15,
     "metadata": {},
     "output_type": "execute_result"
    }
   ],
   "source": [
    "arr[1,4] # access the element at row 1 and column 4"
   ]
  },
  {
   "cell_type": "code",
   "execution_count": 16,
   "id": "c18a22ce",
   "metadata": {},
   "outputs": [
    {
     "data": {
      "text/plain": [
       "array([[32, 30, 22],\n",
       "       [59, 54, 20],\n",
       "       [45, 74, 51]], dtype=int32)"
      ]
     },
     "execution_count": 16,
     "metadata": {},
     "output_type": "execute_result"
    }
   ],
   "source": [
    "arr[2:5,2:5] # access the elements from row 2 to row 5 and column 2 to column 5"
   ]
  },
  {
   "cell_type": "code",
   "execution_count": 17,
   "id": "6f8031dc",
   "metadata": {},
   "outputs": [
    {
     "data": {
      "text/plain": [
       "array([[12, 59, 89,  3, 42, 13, 60, 77, 98, 27],\n",
       "       [83, 29, 59, 54, 20, 82, 58, 60, 86, 94],\n",
       "       [ 3, 43, 83,  8, 24, 82, 78, 51, 21, 30],\n",
       "       [55, 90, 99, 64,  2, 88, 47,  0,  6, 67]], dtype=int32)"
      ]
     },
     "execution_count": 17,
     "metadata": {},
     "output_type": "execute_result"
    }
   ],
   "source": [
    "arr[0:10:3] # access every 3rd element from row 0 to row 10"
   ]
  },
  {
   "cell_type": "code",
   "execution_count": 18,
   "id": "232cd4eb",
   "metadata": {},
   "outputs": [
    {
     "data": {
      "text/plain": [
       "array([12,  3, 42, 13, 27, 31, 33, 25, 33, 21, 40, 41, 14, 32, 30, 22, 10,\n",
       "       37, 29, 20, 35, 45, 16, 16, 45,  0, 32, 39,  4,  8,  3, 43,  8, 24,\n",
       "       21, 30, 23, 34, 43, 13, 20, 31,  2,  0, 29, 36, 29,  2, 47,  0,  6],\n",
       "      dtype=int32)"
      ]
     },
     "execution_count": 18,
     "metadata": {},
     "output_type": "execute_result"
    }
   ],
   "source": [
    "arr[arr<50]"
   ]
  },
  {
   "cell_type": "code",
   "execution_count": 19,
   "id": "74651bf2",
   "metadata": {},
   "outputs": [
    {
     "data": {
      "text/plain": [
       "array([], dtype=int32)"
      ]
     },
     "execution_count": 19,
     "metadata": {},
     "output_type": "execute_result"
    }
   ],
   "source": [
    "arr[arr==50] "
   ]
  },
  {
   "cell_type": "code",
   "execution_count": 20,
   "id": "b774669b",
   "metadata": {},
   "outputs": [
    {
     "name": "stdout",
     "output_type": "stream",
     "text": [
      "Identity matrix f:\n",
      " [[1. 0. 0. 0.]\n",
      " [0. 1. 0. 0.]\n",
      " [0. 0. 1. 0.]\n",
      " [0. 0. 0. 1.]]\n"
     ]
    }
   ],
   "source": [
    "# Create an identity matrix\n",
    "f = np.eye(4)  # 4x4 identity matrix\n",
    "print(\"Identity matrix f:\\n\", f)"
   ]
  },
  {
   "cell_type": "markdown",
   "id": "117c2fac",
   "metadata": {},
   "source": [
    "# Array manipulation function"
   ]
  },
  {
   "cell_type": "code",
   "execution_count": 21,
   "metadata": {},
   "outputs": [
    {
     "name": "stdout",
     "output_type": "stream",
     "text": [
      "Reshaped array: [[1 2 3]\n",
      " [4 5 6]]\n"
     ]
    }
   ],
   "source": [
    "# Reshape an array\n",
    "a1 = np.array([1, 2, 3,4,5,6])\n",
    "reshaped = np.reshape(a1, (2, 3))  # Reshape to 2x3\n",
    "print(\"Reshaped array:\", reshaped)"
   ]
  },
  {
   "cell_type": "code",
   "execution_count": 22,
   "id": "76bbcf77",
   "metadata": {},
   "outputs": [
    {
     "name": "stdout",
     "output_type": "stream",
     "text": [
      "Flattened array: [1 2 3 4]\n"
     ]
    }
   ],
   "source": [
    "# Flatten an array\n",
    "f1 = np.array([[1, 2], [3, 4]])\n",
    "flattened = np.ravel(f1)  # Flatten to 1D array\n",
    "print(\"Flattened array:\", flattened)"
   ]
  },
  {
   "cell_type": "code",
   "execution_count": 23,
   "metadata": {},
   "outputs": [
    {
     "name": "stdout",
     "output_type": "stream",
     "text": [
      "Transposed array:\n",
      " [[1 3]\n",
      " [2 4]]\n"
     ]
    }
   ],
   "source": [
    "# Transpose an array\n",
    "e1 = np.array([[1, 2], [3, 4]])\n",
    "transposed = np.transpose(e1)  # Transpose the array\n",
    "print(\"Transposed array:\\n\", transposed)"
   ]
  },
  {
   "cell_type": "markdown",
   "id": "eddc2eb2",
   "metadata": {},
   "source": [
    "# Mathamatical functions"
   ]
  },
  {
   "cell_type": "code",
   "execution_count": 24,
   "id": "6270d564",
   "metadata": {},
   "outputs": [
    {
     "name": "stdout",
     "output_type": "stream",
     "text": [
      "Added 2 to g: [3 4 5 6]\n"
     ]
    }
   ],
   "source": [
    "# Add two arrays\n",
    "g = np.array([1, 2, 3, 4])\n",
    "added = np.add(g, 2)  # Add 2 to each element\n",
    "print(\"Added 2 to g:\", added)"
   ]
  },
  {
   "cell_type": "code",
   "execution_count": 25,
   "id": "2dc94322",
   "metadata": {},
   "outputs": [
    {
     "name": "stdout",
     "output_type": "stream",
     "text": [
      "Squared g: [ 1  4  9 16]\n"
     ]
    }
   ],
   "source": [
    "squared = np.power(g,2)  # Square each element\n",
    "print(\"Squared g:\", squared)"
   ]
  },
  {
   "cell_type": "code",
   "execution_count": 28,
   "metadata": {},
   "outputs": [
    {
     "name": "stdout",
     "output_type": "stream",
     "text": [
      "Dot product of g with a2: 30\n"
     ]
    }
   ],
   "source": [
    "a2 = np.array([1, 2, 3,4])\n",
    "dot_product = np.dot(g,a2)\n",
    "print(\"Dot product of g with a2:\", dot_product)"
   ]
  },
  {
   "cell_type": "markdown",
   "id": "47cf07f6",
   "metadata": {},
   "source": [
    "# statistical function"
   ]
  },
  {
   "cell_type": "code",
   "execution_count": 33,
   "id": "b1b618c5",
   "metadata": {},
   "outputs": [
    {
     "name": "stdout",
     "output_type": "stream",
     "text": [
      "Mean of stat_of_value: 11.0\n"
     ]
    }
   ],
   "source": [
    "stat_of_value = np.array([1, 2, 3, 4, 5, 6, 7, 8, 9, 10,11,12,13,14,15,16,17,18,19,20,21])\n",
    "mean = np.mean(stat_of_value)\n",
    "print(\"Mean of stat_of_value:\", mean)"
   ]
  },
  {
   "cell_type": "code",
   "execution_count": 34,
   "metadata": {},
   "outputs": [
    {
     "name": "stdout",
     "output_type": "stream",
     "text": [
      "Median of stat_of_value: 11.0\n"
     ]
    }
   ],
   "source": [
    "median = np.median(stat_of_value)\n",
    "print(\"Median of stat_of_value:\", median)"
   ]
  },
  {
   "cell_type": "code",
   "execution_count": 35,
   "id": "a9166503",
   "metadata": {},
   "outputs": [
    {
     "name": "stdout",
     "output_type": "stream",
     "text": [
      "Standard deviation of stat_of_value: 6.0553007081949835\n"
     ]
    }
   ],
   "source": [
    "std = np.std(stat_of_value)\n",
    "print(\"Standard deviation of stat_of_value:\", std)"
   ]
  },
  {
   "cell_type": "code",
   "execution_count": 36,
   "id": "cb9a3ea6",
   "metadata": {},
   "outputs": [
    {
     "name": "stdout",
     "output_type": "stream",
     "text": [
      "Minimum of stat_of_value: 1\n"
     ]
    }
   ],
   "source": [
    "min = np.min(stat_of_value)\n",
    "print(\"Minimum of stat_of_value:\", min)"
   ]
  },
  {
   "cell_type": "code",
   "execution_count": 37,
   "id": "0c2b92c6",
   "metadata": {},
   "outputs": [
    {
     "name": "stdout",
     "output_type": "stream",
     "text": [
      "maimum of stat_of_value: 21\n"
     ]
    }
   ],
   "source": [
    "max = np.max(stat_of_value)\n",
    "print('maimum of stat_of_value:', max)"
   ]
  },
  {
   "cell_type": "markdown",
   "id": "01722fb5",
   "metadata": {},
   "source": [
    "# Linear algebra function"
   ]
  },
  {
   "cell_type": "code",
   "execution_count": 39,
   "id": "9e7a6f42",
   "metadata": {},
   "outputs": [
    {
     "name": "stdout",
     "output_type": "stream",
     "text": [
      "Matrix:\n",
      " [[1 2 3]\n",
      " [4 5 6]\n",
      " [7 8 9]]\n",
      "2\n",
      "Shape of matrix: (3, 3)\n"
     ]
    }
   ],
   "source": [
    "matrix = np.array([[1,2,3],[4,5,6],[7,8,9]])\n",
    "print(\"Matrix:\\n\", matrix)\n",
    "print(np.ndim(matrix))  # Check the number of dimensions of the matrix\n",
    "print(\"Shape of matrix:\", matrix.shape)  # Check the shape of the matrix"
   ]
  },
  {
   "cell_type": "markdown",
   "id": "01d78c8d",
   "metadata": {},
   "source": [
    "# Boolean and logical functions"
   ]
  },
  {
   "cell_type": "markdown",
   "id": "27ab2474",
   "metadata": {},
   "source": [
    "# for checking all the elements are true we use all() function\n",
    "# for checking any of the elements are true we use any() function"
   ]
  },
  {
   "cell_type": "code",
   "execution_count": 42,
   "id": "a7ea4564",
   "metadata": {},
   "outputs": [
    {
     "name": "stdout",
     "output_type": "stream",
     "text": [
      "All elements are True: False\n",
      "Any element is True: True\n"
     ]
    }
   ],
   "source": [
    "logical_test = np.array([True,False,True,False])\n",
    "Check_all = np.all(logical_test)  # Check if all elements are True\n",
    "Check_any = np.any(logical_test)  # Check if any element is True\n",
    "print(\"All elements are True:\", Check_all)\n",
    "print(\"Any element is True:\", Check_any)"
   ]
  },
  {
   "cell_type": "markdown",
   "id": "2abc4999",
   "metadata": {},
   "source": [
    "# Set operations"
   ]
  },
  {
   "cell_type": "code",
   "execution_count": 45,
   "id": "fb6d3f53",
   "metadata": {},
   "outputs": [
    {
     "name": "stdout",
     "output_type": "stream",
     "text": [
      "Intersection of set_a and set_b: [3 4]\n"
     ]
    }
   ],
   "source": [
    "set_a = np.array([1, 2, 3, 4])\n",
    "set_b = np.array([3, 4, 5, 6])\n",
    "intersection = np.intersect1d(set_a,set_b) # Find the intersection of two sets\n",
    "print(\"Intersection of set_a and set_b:\", intersection)"
   ]
  },
  {
   "cell_type": "code",
   "execution_count": null,
   "id": "f561d187",
   "metadata": {},
   "outputs": [
    {
     "name": "stdout",
     "output_type": "stream",
     "text": [
      "union of set1_a and set1_b: [1 2 3 4 5 6]\n"
     ]
    }
   ],
   "source": [
    "set1_a = np.array([1, 2, 3, 4])\n",
    "set1_b = np.array([3, 4, 5, 6])\n",
    "union = np.union1d(set1_a,set1_b) # Find the union of two sets\n",
    "print(\"union of set1_a and set1_b:\", union)"
   ]
  },
  {
   "cell_type": "markdown",
   "id": "9a191bba",
   "metadata": {},
   "source": [
    "# array attribute function"
   ]
  },
  {
   "cell_type": "code",
   "execution_count": 48,
   "id": "d88a8b03",
   "metadata": {},
   "outputs": [
    {
     "name": "stdout",
     "output_type": "stream",
     "text": [
      "Shape of a: (3,)\n",
      "Size of a: 3\n",
      "Number of dimensions of a: 1\n",
      "Data type of a: int64\n"
     ]
    }
   ],
   "source": [
    "# Array attributes\n",
    "a = np.array([1, 2, 3])\n",
    "shape = a.shape  # Shape of the array\n",
    "size = a.size    # Number of elements\n",
    "dimensions = a.ndim  # Number of dimensions\n",
    "dtype = a.dtype   # Data type of the array\n",
    "\n",
    "print(\"Shape of a:\", shape)\n",
    "print(\"Size of a:\", size)\n",
    "print(\"Number of dimensions of a:\", dimensions)\n",
    "print(\"Data type of a:\", dtype)"
   ]
  },
  {
   "cell_type": "code",
   "execution_count": null,
   "id": "0400ba0e",
   "metadata": {},
   "outputs": [],
   "source": []
  },
  {
   "cell_type": "code",
   "execution_count": null,
   "id": "add1ec04",
   "metadata": {},
   "outputs": [],
   "source": []
  },
  {
   "cell_type": "code",
   "execution_count": null,
   "id": "91696683",
   "metadata": {},
   "outputs": [],
   "source": []
  },
  {
   "cell_type": "code",
   "execution_count": null,
   "id": "be2bf673",
   "metadata": {},
   "outputs": [],
   "source": []
  },
  {
   "cell_type": "code",
   "execution_count": null,
   "id": "72987e42",
   "metadata": {},
   "outputs": [],
   "source": []
  }
 ],
 "metadata": {
  "kernelspec": {
   "display_name": "base",
   "language": "python",
   "name": "python3"
  },
  "language_info": {
   "codemirror_mode": {
    "name": "ipython",
    "version": 3
   },
   "file_extension": ".py",
   "mimetype": "text/x-python",
   "name": "python",
   "nbconvert_exporter": "python",
   "pygments_lexer": "ipython3",
   "version": "3.13.5"
  }
 },
 "nbformat": 4,
 "nbformat_minor": 5
}
