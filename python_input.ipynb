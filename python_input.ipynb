{
 "cells": [
  {
   "cell_type": "markdown",
   "id": "049a7826",
   "metadata": {},
   "source": [
    "# 1. What is the input() function in Python used for?\n",
    "# input function in python is used for taking a string input from the user through the cmd"
   ]
  },
  {
   "cell_type": "code",
   "execution_count": 1,
   "id": "b3c1f4cf",
   "metadata": {},
   "outputs": [
    {
     "name": "stdout",
     "output_type": "stream",
     "text": [
      "20\n"
     ]
    }
   ],
   "source": [
    "# 2. How can you accept an integer as input from the user using input()?\n",
    "x = int(input('Enter A Number : '))\n",
    "print(x)"
   ]
  },
  {
   "cell_type": "code",
   "execution_count": 4,
   "id": "f9467226",
   "metadata": {},
   "outputs": [
    {
     "data": {
      "text/plain": [
       "5.5"
      ]
     },
     "execution_count": 4,
     "metadata": {},
     "output_type": "execute_result"
    }
   ],
   "source": [
    "# 3. How do you accept a float input from the user?\n",
    "y = float(input('enter a float value :'))\n",
    "y"
   ]
  },
  {
   "cell_type": "code",
   "execution_count": 8,
   "id": "31ef6332",
   "metadata": {},
   "outputs": [
    {
     "name": "stdout",
     "output_type": "stream",
     "text": [
      "Value of a: 10\n",
      "Value of b: 20\n",
      "Value of c: 30\n"
     ]
    }
   ],
   "source": [
    "# 4. How can you take multiple space-separated values as input? python\n",
    "a,b,c = input(\"Enter three values: \").split()\n",
    "\n",
    "print(\"Value of a:\", a)\n",
    "print(\"Value of b:\", b)\n",
    "print(\"Value of c:\", c)"
   ]
  },
  {
   "cell_type": "code",
   "execution_count": 12,
   "id": "d3962b15",
   "metadata": {},
   "outputs": [
    {
     "name": "stdout",
     "output_type": "stream",
     "text": [
      "it is a positive number\n"
     ]
    }
   ],
   "source": [
    "# 5. How do you check if a number entered by the user is positive, negative, or zero?\n",
    "a = int(input('enter a number :'))\n",
    "\n",
    "if a >= 0:\n",
    "    print('it is a positive number')\n",
    "elif a < 0:\n",
    "    print('it is a negetive number')\n",
    "else:\n",
    "    print('not a number')"
   ]
  },
  {
   "cell_type": "code",
   "execution_count": 15,
   "id": "87a9bd27",
   "metadata": {},
   "outputs": [
    {
     "data": {
      "text/plain": [
       "[]"
      ]
     },
     "execution_count": 15,
     "metadata": {},
     "output_type": "execute_result"
    }
   ],
   "source": [
    "# 6. How do you convert user input to a list of integers?\n",
    "list = [int(x) for x in input('enter number').split()]\n",
    "list"
   ]
  },
  {
   "cell_type": "code",
   "execution_count": 16,
   "id": "075c2dd9",
   "metadata": {},
   "outputs": [
    {
     "name": "stdout",
     "output_type": "stream",
     "text": [
      "FGSKFHASFHKJFH\n"
     ]
    }
   ],
   "source": [
    "# 7. How do you accept a string input and print it in uppercase?\n",
    "a = input('enter character to convert into upper case')\n",
    "print(a.upper())"
   ]
  },
  {
   "cell_type": "code",
   "execution_count": 19,
   "id": "42f66d79",
   "metadata": {},
   "outputs": [
    {
     "name": "stdout",
     "output_type": "stream",
     "text": [
      "4\n"
     ]
    }
   ],
   "source": [
    "text = input('enter a string')\n",
    "vowel = 'aeiou'\n",
    "count = sum(1 for char in text if char.lower() in vowel)\n",
    "print(count)"
   ]
  },
  {
   "cell_type": "code",
   "execution_count": 21,
   "id": "24bcfa39",
   "metadata": {},
   "outputs": [
    {
     "name": "stdout",
     "output_type": "stream",
     "text": [
      "odd 55\n"
     ]
    }
   ],
   "source": [
    "# 9. Write a program that takes a number as input and checks if it is even or odd.\n",
    "num = int(input('enter a number :'))\n",
    "if num % 2 == 0:\n",
    "    print('even',num)\n",
    "else:\n",
    "    print('odd',num)"
   ]
  },
  {
   "cell_type": "code",
   "execution_count": 24,
   "id": "5aa3b42c",
   "metadata": {},
   "outputs": [
    {
     "name": "stdout",
     "output_type": "stream",
     "text": [
      "palindrome\n"
     ]
    }
   ],
   "source": [
    "# 10. How would you check if a string is a palindrome using input()?\n",
    "value = input('enter a palindrome')\n",
    "if value == value[::-1]:\n",
    "    print('palindrome')\n",
    "else:\n",
    "    print('not a palindrome')"
   ]
  },
  {
   "cell_type": "code",
   "execution_count": 25,
   "id": "7d1aa0fc",
   "metadata": {},
   "outputs": [
    {
     "name": "stdout",
     "output_type": "stream",
     "text": [
      "25\n"
     ]
    }
   ],
   "source": [
    "number = int(input('enter a number'))\n",
    "print(number **2)"
   ]
  },
  {
   "cell_type": "code",
   "execution_count": null,
   "id": "441526d6",
   "metadata": {},
   "outputs": [
    {
     "name": "stdout",
     "output_type": "stream",
     "text": [
      "not a prime number\n"
     ]
    }
   ],
   "source": [
    "# 16. Write a program that checks if the input number is a prime number\n",
    "num = int(input('enter a number :'))\n",
    "if num < 2:\n",
    "    print('not a prime number')\n",
    "else:\n",
    "    is_prime = True\n",
    "    for i in range(2,num):\n",
    "        if num % i == 0:\n",
    "            is_prime = False\n",
    "            break\n",
    "    if is_prime:\n",
    "        print('prime number')\n",
    "    else:\n",
    "        print('not a prime number')"
   ]
  },
  {
   "cell_type": "code",
   "execution_count": 38,
   "id": "eccad472",
   "metadata": {},
   "outputs": [
    {
     "ename": "TypeError",
     "evalue": "'bool' object is not callable",
     "output_type": "error",
     "traceback": [
      "\u001b[1;31m---------------------------------------------------------------------------\u001b[0m",
      "\u001b[1;31mTypeError\u001b[0m                                 Traceback (most recent call last)",
      "Cell \u001b[1;32mIn[38], line 1\u001b[0m\n\u001b[1;32m----> 1\u001b[0m bool2 \u001b[38;5;241m=\u001b[39m \u001b[38;5;28mbool\u001b[39m(\u001b[38;5;28minput\u001b[39m(\u001b[38;5;124m'\u001b[39m\u001b[38;5;124menter\u001b[39m\u001b[38;5;124m'\u001b[39m))\n\u001b[0;32m      2\u001b[0m \u001b[38;5;28mprint\u001b[39m(bool2)\n",
      "\u001b[1;31mTypeError\u001b[0m: 'bool' object is not callable"
     ]
    }
   ],
   "source": [
    "bool2 = bool(input('enter'))\n",
    "print(bool2)"
   ]
  },
  {
   "cell_type": "code",
   "execution_count": 40,
   "id": "d1842c20",
   "metadata": {},
   "outputs": [
    {
     "name": "stdout",
     "output_type": "stream",
     "text": [
      "olleh\n"
     ]
    }
   ],
   "source": [
    "value = input('enter a string')\n",
    "print(value[::-1])"
   ]
  },
  {
   "cell_type": "code",
   "execution_count": 42,
   "id": "42623153",
   "metadata": {},
   "outputs": [
    {
     "name": "stdout",
     "output_type": "stream",
     "text": [
      "Factorial: 1\n",
      "Factorial: 2\n",
      "Factorial: 6\n",
      "Factorial: 24\n",
      "Factorial: 120\n"
     ]
    }
   ],
   "source": [
    "num = int(input(\"Enter a number: \"))\n",
    "factorial = 1\n",
    "for i in range(1, num + 1):\n",
    "    factorial *= i\n",
    "    print(\"Factorial:\", factorial)"
   ]
  },
  {
   "cell_type": "code",
   "execution_count": 43,
   "id": "f69a9bf9",
   "metadata": {},
   "outputs": [
    {
     "name": "stdout",
     "output_type": "stream",
     "text": [
      "You entered: hhhtg hjhig\n"
     ]
    }
   ],
   "source": [
    "user_input = input(\"Enter something: \").strip()\n",
    "if not user_input:\n",
    "    print(\"Input cannot be empty.\")\n",
    "else:\n",
    "    print(f\"You entered: {user_input}\")"
   ]
  },
  {
   "cell_type": "code",
   "execution_count": 52,
   "id": "158958d8",
   "metadata": {},
   "outputs": [
    {
     "name": "stdout",
     "output_type": "stream",
     "text": [
      "leap year\n"
     ]
    }
   ],
   "source": [
    "# print leap year\n",
    "year = int(input('enter a year :'))\n",
    "if(year % 4 == 0 and year % 100 != 0 ) or (year % 400 == 0):\n",
    "    print('leap year')\n",
    "else:\n",
    "    print('not a leap year')"
   ]
  },
  {
   "cell_type": "code",
   "execution_count": 54,
   "id": "3b237b5d",
   "metadata": {},
   "outputs": [
    {
     "name": "stdout",
     "output_type": "stream",
     "text": [
      "Occurrence of a: 3\n"
     ]
    }
   ],
   "source": [
    "text = input(\"Enter a string: \")\n",
    "char = input(\"Enter a character to count: \")\n",
    "print(f\"Occurrence of {char}: {text.count(char)}\")"
   ]
  },
  {
   "cell_type": "code",
   "execution_count": 55,
   "id": "8db9bb3b",
   "metadata": {},
   "outputs": [
    {
     "name": "stdout",
     "output_type": "stream",
     "text": [
      "Contains non-alphabet characters\n"
     ]
    }
   ],
   "source": [
    "user_input = input(\"Enter a string: \")\n",
    "if user_input.isalpha():\n",
    "    print(\"Only alphabets\")\n",
    "else:\n",
    "    print(\"Contains non-alphabet characters\")"
   ]
  },
  {
   "cell_type": "code",
   "execution_count": 2,
   "id": "727e26c3",
   "metadata": {},
   "outputs": [
    {
     "name": "stdout",
     "output_type": "stream",
     "text": [
      "Number of words: 3\n"
     ]
    }
   ],
   "source": [
    "# 30. **Question:** Write a program to count the number of words in a sentence\n",
    "# entered by the user.\n",
    "text = input(\"Enter a sentence: \")\n",
    "word_count = len(text.split())\n",
    "print(f\"Number of words: {word_count}\")"
   ]
  },
  {
   "cell_type": "code",
   "execution_count": null,
   "id": "87aab149",
   "metadata": {},
   "outputs": [
    {
     "name": "stdout",
     "output_type": "stream",
     "text": [
      "3  5\n",
      "Value of a: 5, Value of b: 3 \n"
     ]
    }
   ],
   "source": [
    "#  33. **Question:** Write a program to swap the values of two variables using\n",
    "# `input()`.\n",
    "\n",
    "a = input('enter a value :')\n",
    "b = input('enter a value :')\n",
    "print(f\"value of a before swap : {a}, value of b before swap: {b}\")\n",
    "a,b = b,a\n",
    "print(f\"Value of a: {a}, Value of b: {b}\")"
   ]
  }
 ],
 "metadata": {
  "kernelspec": {
   "display_name": "base",
   "language": "python",
   "name": "python3"
  },
  "language_info": {
   "codemirror_mode": {
    "name": "ipython",
    "version": 3
   },
   "file_extension": ".py",
   "mimetype": "text/x-python",
   "name": "python",
   "nbconvert_exporter": "python",
   "pygments_lexer": "ipython3",
   "version": "3.13.5"
  }
 },
 "nbformat": 4,
 "nbformat_minor": 5
}
